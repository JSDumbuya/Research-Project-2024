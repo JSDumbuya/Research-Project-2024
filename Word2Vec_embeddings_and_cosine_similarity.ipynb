{
 "cells": [
  {
   "cell_type": "code",
   "execution_count": 6,
   "id": "45f60224-6384-4e50-be80-462697388699",
   "metadata": {},
   "outputs": [
    {
     "name": "stdout",
     "output_type": "stream",
     "text": [
      "Cosine similarity files saved: 'male_cosine_similarities_word2vec.csv' and 'female_cosine_similarities_word2vec.csv'\n"
     ]
    }
   ],
   "source": [
    "import pandas as pd\n",
    "import numpy as np\n",
    "from gensim.models import Word2Vec\n",
    "from gensim.utils import simple_preprocess\n",
    "from sklearn.metrics.pairwise import cosine_similarity\n",
    "\n",
    "# Load the uploaded CSV files\n",
    "preprocessed_data = pd.read_csv('v3_preprocessed_data.csv')\n",
    "adjectives_data = pd.read_csv('adjectives_from_corpus.csv')\n",
    "\n",
    "# Prepare the data for Word2Vec\n",
    "sentences = preprocessed_data['body'].apply(simple_preprocess).tolist()\n",
    "\n",
    "# Train a Word2Vec model\n",
    "word2vec_model = Word2Vec(sentences, vector_size=100, window=5, min_count=1, sg=1, seed=42, workers=1)\n",
    "\n",
    "# Create DataFrame from Word2Vec model's embeddings\n",
    "def create_embedding_dataframe(model):\n",
    "    words = list(model.wv.index_to_key)\n",
    "    embeddings = [model.wv[word] for word in words]\n",
    "    return pd.DataFrame({\"word\": words, \"embedding\": embeddings})\n",
    "\n",
    "gendered_word_embeddings = create_embedding_dataframe(word2vec_model)\n",
    "\n",
    "# Function to calculate average embedding for a list of words\n",
    "def calculateAverageEmbedding(gendered_word_embeddings, target_words):\n",
    "    embeddings = []\n",
    "    for word in target_words:\n",
    "        filtered_df = gendered_word_embeddings[gendered_word_embeddings['word'] == word]\n",
    "        if not filtered_df.empty:\n",
    "            embeddings.extend(filtered_df['embedding'].tolist())\n",
    "    if embeddings:\n",
    "        # Convert list of arrays into a 2D NumPy array\n",
    "        embeddings_array = np.array(embeddings)\n",
    "        avg_embedding = np.mean(embeddings_array, axis=0)\n",
    "        return target_words, avg_embedding\n",
    "    else:\n",
    "        return target_words, None\n",
    "\n",
    "# Define male and female keywords\n",
    "male_keywords = [\"he\", \"him\", \"his\"]\n",
    "female_keywords = [\"she\", \"her\", \"hers\"]\n",
    "\n",
    "# Calculate average embeddings for male and female keywords\n",
    "_, male_vector = calculateAverageEmbedding(gendered_word_embeddings, male_keywords)\n",
    "_, female_vector = calculateAverageEmbedding(gendered_word_embeddings, female_keywords)\n",
    "\n",
    "# Prepare target adjectives from the corpus and filter out unwanted words\n",
    "adjectives = adjectives_data['adjective'].tolist()\n",
    "filtered_adjectives = [adj for adj in adjectives if adj.lower()]\n",
    "\n",
    "# Function to compute and save cosine similarities for all adjectives, sorted by similarity\n",
    "def save_cosine_similarities(model, adjectives, gender_vector, filename):\n",
    "    if gender_vector is None:\n",
    "        return  # Skip if the vector is None\n",
    "    adjective_similarities = []\n",
    "    for word in adjectives:\n",
    "        if word in model.wv:\n",
    "            similarity = cosine_similarity(model.wv[word].reshape(1, -1), gender_vector.reshape(1, -1))[0][0]\n",
    "            adjective_similarities.append({\"word\": word, \"similarity\": similarity})\n",
    "    # Create a DataFrame, sort by 'similarity' in descending order, and save to CSV\n",
    "    df = pd.DataFrame(adjective_similarities)\n",
    "    df = df.sort_values(by='similarity', ascending=False)  # Sorting the DataFrame by 'similarity' column\n",
    "    df.to_csv(filename, index=False)\n",
    "\n",
    "# Compute and save cosine similarities for male and female vectors\n",
    "save_cosine_similarities(word2vec_model, filtered_adjectives, male_vector, \"male_cosine_similarities_word2vec.csv\")\n",
    "save_cosine_similarities(word2vec_model, filtered_adjectives, female_vector, \"female_cosine_similarities_word2vec.csv\")\n",
    "\n",
    "print(\"Cosine similarity files saved: 'male_cosine_similarities_word2vec.csv' and 'female_cosine_similarities_word2vec.csv'\")\n"
   ]
  },
  {
   "cell_type": "code",
   "execution_count": null,
   "id": "75126e3e-b928-469b-9b56-289145e525bc",
   "metadata": {},
   "outputs": [],
   "source": []
  }
 ],
 "metadata": {
  "kernelspec": {
   "display_name": "Python 3 (ipykernel)",
   "language": "python",
   "name": "python3"
  },
  "language_info": {
   "codemirror_mode": {
    "name": "ipython",
    "version": 3
   },
   "file_extension": ".py",
   "mimetype": "text/x-python",
   "name": "python",
   "nbconvert_exporter": "python",
   "pygments_lexer": "ipython3",
   "version": "3.11.7"
  }
 },
 "nbformat": 4,
 "nbformat_minor": 5
}
