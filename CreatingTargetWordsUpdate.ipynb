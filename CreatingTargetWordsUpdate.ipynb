{
 "cells": [
  {
   "cell_type": "code",
   "execution_count": 12,
   "id": "6dbe8e69-fd5e-4af3-8604-e14263a39508",
   "metadata": {},
   "outputs": [
    {
     "name": "stderr",
     "output_type": "stream",
     "text": [
      "[nltk_data] Downloading package punkt to C:\\Users\\Lenovo\n",
      "[nltk_data]     Thinkpad\\AppData\\Roaming\\nltk_data...\n",
      "[nltk_data]   Package punkt is already up-to-date!\n",
      "[nltk_data] Downloading package averaged_perceptron_tagger to\n",
      "[nltk_data]     C:\\Users\\Lenovo Thinkpad\\AppData\\Roaming\\nltk_data...\n",
      "[nltk_data]   Package averaged_perceptron_tagger is already up-to-\n",
      "[nltk_data]       date!\n"
     ]
    }
   ],
   "source": [
    "import pandas as pd\n",
    "import nltk\n",
    "from collections import Counter\n",
    "from nltk.corpus import wordnet as wn\n",
    "\n",
    "# Ensure NLTK resources are downloaded\n",
    "nltk.download('punkt')\n",
    "nltk.download('averaged_perceptron_tagger')\n",
    "\n",
    "# Load preprocessed data from a CSV file\n",
    "preprocessed_data = pd.read_csv('v3_preprocessed_data.csv')\n",
    "\n",
    "# Define a function to extract adjectives from tokenized words\n",
    "def extract_adjectives(text):\n",
    "    words = nltk.word_tokenize(text)  # Tokenize the text directly\n",
    "    tagged = nltk.pos_tag(words)\n",
    "    return [word for word, pos in tagged if pos.startswith('JJ') and len(word) > 2]\n",
    "\n",
    "# List of words to exclude\n",
    "filter_out = [\n",
    "    'human', 'person', 'people', 'participant', 'participants', 'individual',\n",
    "    'individuals', 'person', 'persons', 'western', 'finish', 'second', 'third',\n",
    "    'fourth', 'first', 'minute', 'full', 'mile', 'fifth', 'american', 'sixth',\n",
    "    'seventh', 'british', 'french', 'female', 'eighth', 'ninth', 'usa', 'moroccan',\n",
    "    'sweden', 'february', 'u.s.', 'u.k.', 'january', 'italy', 'other', 'top',\n",
    "    'last', 'more', 'final', 'early', 'few', 'many', 'next', 'much', 'most',\n",
    "    'overall', 'same', 'own', 'related', 'previous', 'such', 'hearst', 'several',\n",
    "    'sure', 'clear', 'able', 'local', 'hot', 'right', 'due', 'latest', 'digital',\n",
    "    'lead', 'additional', 'late', 'least', 'steep', 'past', 'north', 'close',\n",
    "    'flat', 'real', 'low', 'subscribe', 'whole', 'only', 'international', 'south',\n",
    "    'total', 'black', 'green', 'free', 'entire', 'warm', 'likely', 'half',\n",
    "    'vertical', 'trail', 'higher', 'national', 'back', 'eventual', 'main',\n",
    "    'uphill', 'deep', 'recent', 'live', 'key', 'multiple', 'dry', 'fellow',\n",
    "    'last-minute', 'further', 'general', '10th', 'common', 'daily', 'rocky',\n",
    "    'two-time', 'double', 'available', 'croft', 'red', 'open', 'essential',\n",
    "    'running', 'various', 'prior', 'remote', 'official', 'european', 'guardian',\n",
    "    'outside', 'massive', 'isn', 'don', 'relative', 'longest', 'automatic', 'ski',\n",
    "    'particular', 'saturday', 'nick', 'white', 'lake', 'italien', 'average',\n",
    "    'unable', 'october', 'certain', 'tom', 'xavier', 'outdoor', 'april',\n",
    "    'following', 'specific', 'shoe', 'chinese', 'northern', 'later', 'added',\n",
    "    'weekly', 'david', 'mds', 'sarah', 'spanish', 'patrick', 'complete', 'west',\n",
    "    'opposite', 'italian', 'mere', 'podium', 'appalachian', 'gear', 'anna',\n",
    "    'swiss', 'separate', 'fewer', 'capable', 'earlier', 'pole', 'sunday',\n",
    "    'michigan', 'actual', 'ida', 'dark', 'standard', 'spain', 'english', 'leg',\n",
    "    'cumulative', 'familiar', 'chase', 'monthly', 'muddy', 'lifelong', 'retail',\n",
    "    'severe', 'hidden', 'olympic', 'useful', 'aware', 'constant', 'loose',\n",
    "    'initial', 'australia', 'germany', 'hillary', 'tenth', 'glucose', 'closer',\n",
    "    'rugged', 'diet', 'olympian', 'snow', 'japanese', 'dusty', 'latter', 'friday',\n",
    "    'uganda', 'dong', 'frozen', 'adam', 'like', 'future', 'portugal', 'czech',\n",
    "    'liza', 'cross', 'table', 'august', 'new']\n",
    "\n",
    "\n",
    "# Initialize a list to store all adjectives\n",
    "all_adjectives = []\n",
    "\n",
    "# Process each row in the DataFrame\n",
    "for index, row in preprocessed_data.iterrows():\n",
    "    adjectives = extract_adjectives(row['body'])  # Extract adjectives from the text\n",
    "\n",
    "    # Filter words to include those with WordNet entries and not in the filter_out list\n",
    "    all_adjectives.extend(word for word in adjectives if wn.synsets(word) and word.lower() not in filter_out)\n",
    "\n",
    "# Count occurrences of each adjective\n",
    "adjective_count = Counter(all_adjectives)\n",
    "\n",
    "# Specify the number of most common words to keep\n",
    "words_to_include = 200\n",
    "adjectives_to_include = [word for word, count in adjective_count.most_common(words_to_include)]\n",
    "\n",
    "# Create a DataFrame for adjectives and save it to a CSV file\n",
    "adjectives_df = pd.DataFrame(adjectives_to_include, columns=['adjective'])\n",
    "adjectives_df.to_csv('adjectives_from_corpus_filtered.csv', index=False)\n"
   ]
  },
  {
   "cell_type": "code",
   "execution_count": null,
   "id": "46e1a98f-a97e-4f10-8f56-86038b8eff0d",
   "metadata": {},
   "outputs": [],
   "source": []
  }
 ],
 "metadata": {
  "kernelspec": {
   "display_name": "Python 3 (ipykernel)",
   "language": "python",
   "name": "python3"
  },
  "language_info": {
   "codemirror_mode": {
    "name": "ipython",
    "version": 3
   },
   "file_extension": ".py",
   "mimetype": "text/x-python",
   "name": "python",
   "nbconvert_exporter": "python",
   "pygments_lexer": "ipython3",
   "version": "3.11.7"
  }
 },
 "nbformat": 4,
 "nbformat_minor": 5
}
